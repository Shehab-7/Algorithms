{
 "cells": [
  {
   "cell_type": "markdown",
   "id": "23ff3bb0",
   "metadata": {},
   "source": [
    "# Lab-6"
   ]
  },
  {
   "cell_type": "markdown",
   "id": "502d1e2c",
   "metadata": {},
   "source": [
    "Solve 0-1Knapsack problem using Dynamic Programming?"
   ]
  },
  {
   "cell_type": "code",
   "execution_count": 6,
   "id": "872f2bf9",
   "metadata": {},
   "outputs": [
    {
     "name": "stdout",
     "output_type": "stream",
     "text": [
      "220\n"
     ]
    }
   ],
   "source": [
    "def knapSack(capacity, weight, value, n):\n",
    "    K = [[0 for x in range(capacity + 1)] for x in range(n + 1)]\n",
    " \n",
    "    for i in range(n + 1):\n",
    "        for capacity in range(capacity + 1):\n",
    "            if i == 0 or capacity == 0:\n",
    "                K[i][capacity] = 0\n",
    "            elif weight[i-1] <= capacity:\n",
    "                K[i][capacity] = max(value[i-1]\n",
    "                          + K[i-1][capacity-weight[i-1]], \n",
    "                              K[i-1][capacity])\n",
    "            else:\n",
    "                K[i][capacity] = K[i-1][capacity]\n",
    " \n",
    "    return K[n][capacity]\n",
    " \n",
    "value = [60, 100, 120]\n",
    "weight = [10, 20, 30]\n",
    "capacity = 50\n",
    "n = len(value)\n",
    "print(knapSack(capacity, weight, value, n))"
   ]
  },
  {
   "cell_type": "markdown",
   "id": "09375e11",
   "metadata": {},
   "source": [
    "IS the solution polynomial? Justify Your answer. "
   ]
  },
  {
   "cell_type": "markdown",
   "id": "6403a9b2",
   "metadata": {},
   "source": [
    "We can concider the kanpsack problem as pseudo-polynomial \n",
    "since its complexity is O(nW)   n: No. of items   ,   W: Capacity\n",
    "n is a list of inputs --> O(n)\n",
    "W is an integer --> O(2^bits in integer W) \n",
    "so, it looks like polynomial but it's actually exponential"
   ]
  },
  {
   "cell_type": "markdown",
   "id": "88bcc048",
   "metadata": {},
   "source": [
    "Do not forget to Cite you sources"
   ]
  },
  {
   "cell_type": "markdown",
   "id": "d236a7db",
   "metadata": {},
   "source": [
    "https://youtu.be/PfkBS9qIMRE\n",
    "    \n",
    "https://youtu.be/9oI7fg-MIpE"
   ]
  }
 ],
 "metadata": {
  "kernelspec": {
   "display_name": "Python 3 (ipykernel)",
   "language": "python",
   "name": "python3"
  },
  "language_info": {
   "codemirror_mode": {
    "name": "ipython",
    "version": 3
   },
   "file_extension": ".py",
   "mimetype": "text/x-python",
   "name": "python",
   "nbconvert_exporter": "python",
   "pygments_lexer": "ipython3",
   "version": "3.9.7"
  }
 },
 "nbformat": 4,
 "nbformat_minor": 5
}
