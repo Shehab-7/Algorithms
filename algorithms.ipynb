{
 "cells": [
  {
   "cell_type": "markdown",
   "id": "059135c4",
   "metadata": {},
   "source": [
    "--> Factorial \"Iteration\""
   ]
  },
  {
   "cell_type": "code",
   "execution_count": 65,
   "id": "6b2dff77",
   "metadata": {},
   "outputs": [
    {
     "name": "stdout",
     "output_type": "stream",
     "text": [
      "120\n"
     ]
    }
   ],
   "source": [
    "number = 5\n",
    "fact = 1\n",
    "if number == 1:\n",
    "    fact = 1\n",
    "elif number > 0 and number != 1 :\n",
    "    for i in range(1,number+1):\n",
    "        fact = fact * i\n",
    "print(fact)"
   ]
  },
  {
   "cell_type": "markdown",
   "id": "be9325d1",
   "metadata": {},
   "source": [
    "--> Factorial \"Recursion\""
   ]
  },
  {
   "cell_type": "code",
   "execution_count": 66,
   "id": "a6072534",
   "metadata": {},
   "outputs": [
    {
     "name": "stdout",
     "output_type": "stream",
     "text": [
      "120\n"
     ]
    }
   ],
   "source": [
    "def factorial(number):\n",
    "    if number == 1:\n",
    "        return number\n",
    "    elif number > 0 and number != 1:\n",
    "        return number*factorial(number-1)\n",
    "\n",
    "num = 5\n",
    "print(factorial(num))"
   ]
  },
  {
   "cell_type": "markdown",
   "id": "6f7ea560",
   "metadata": {},
   "source": [
    "--> Fibonacci \"Iteration\""
   ]
  },
  {
   "cell_type": "code",
   "execution_count": 56,
   "id": "dc682214",
   "metadata": {},
   "outputs": [
    {
     "name": "stdout",
     "output_type": "stream",
     "text": [
      "55\n"
     ]
    }
   ],
   "source": [
    "num1 = 0\n",
    "num2 = 1\n",
    "fib = 10\n",
    "result = 0\n",
    "for i in range(0,fib-1):\n",
    "    result = num1 + num2\n",
    "    num1 = num2\n",
    "    num2 = result\n",
    "print(result)"
   ]
  },
  {
   "cell_type": "markdown",
   "id": "765a59b9",
   "metadata": {},
   "source": [
    "--> Fibonacci \"Recursion\""
   ]
  },
  {
   "cell_type": "code",
   "execution_count": 1,
   "id": "0f2a3b94",
   "metadata": {},
   "outputs": [
    {
     "name": "stdout",
     "output_type": "stream",
     "text": [
      "55\n"
     ]
    }
   ],
   "source": [
    "def fib(number):\n",
    "    if number <= 1 :\n",
    "        return number \n",
    "    else:\n",
    "        return (fib(number-1)+fib(number-2))\n",
    "\n",
    "print(fib(10))\n",
    "    "
   ]
  },
  {
   "cell_type": "markdown",
   "id": "0b2af5d4",
   "metadata": {},
   "source": [
    "--> Linear Search \"Iteration\""
   ]
  },
  {
   "cell_type": "code",
   "execution_count": 1,
   "id": "d00407e6",
   "metadata": {},
   "outputs": [
    {
     "name": "stdout",
     "output_type": "stream",
     "text": [
      "The Goal is at index = 6\n"
     ]
    }
   ],
   "source": [
    "import numpy as np\n",
    "goal = 7\n",
    "input_arr = np.array([1,2,3,4,5,6,7,8,9,10])\n",
    "for i in range(len(input_arr)):\n",
    "    if goal == input_arr[i]:\n",
    "        position = i\n",
    "        break\n",
    "    else :\n",
    "        position = -1\n",
    "        \n",
    "if position == -1:\n",
    "    print(\"NOT FOUND\")\n",
    "else :\n",
    "    print(\"The Goal is at index = \" + str(position))"
   ]
  },
  {
   "cell_type": "markdown",
   "id": "4eda1595",
   "metadata": {},
   "source": [
    "--> Linear Search \"Recursion\""
   ]
  },
  {
   "cell_type": "code",
   "execution_count": 29,
   "id": "bfd0e495",
   "metadata": {},
   "outputs": [
    {
     "name": "stdout",
     "output_type": "stream",
     "text": [
      "The Goal is at index = 8\n"
     ]
    }
   ],
   "source": [
    "def linear_search_rec(arr,i,goal):\n",
    "    if i < len(arr):\n",
    "        if arr[i] == goal :\n",
    "            position = i\n",
    "            return position\n",
    "        else :\n",
    "            position = i+1\n",
    "            return linear_search_rec(arr,position,goal)\n",
    "    else :\n",
    "        position = -1\n",
    "        return position\n",
    "\n",
    "input_arr = np.array([1,2,3,4,5,6,7,8,9,10])\n",
    "goal = 9\n",
    "start_index = 0\n",
    "\n",
    "if linear_search_rec(input_arr,start_index,goal) == -1:\n",
    "    print(\"NOT FOUND\")\n",
    "else :\n",
    "    print(\"The Goal is at index = \" + str(linear_search_rec(input_arr,start_index,goal)))\n",
    "    "
   ]
  },
  {
   "cell_type": "markdown",
   "id": "ac6241e9",
   "metadata": {},
   "source": [
    "--> Binary Search \"Iteration\""
   ]
  },
  {
   "cell_type": "code",
   "execution_count": 43,
   "id": "33394f4e",
   "metadata": {},
   "outputs": [
    {
     "name": "stdout",
     "output_type": "stream",
     "text": [
      "The Goal is at index = 6\n"
     ]
    }
   ],
   "source": [
    "def binary_search(arr,goal):\n",
    "    low = 0\n",
    "    high = len(arr)-1\n",
    "    while low <= high :\n",
    "        mid = (high + low)//2\n",
    "\n",
    "        if input_arr[mid] < goal:\n",
    "            low = mid+1\n",
    "        elif input_arr[mid] > goal:\n",
    "            high = mid-1\n",
    "        elif arr[mid] == goal:\n",
    "            return mid\n",
    "        else:\n",
    "            return -1 #not found\n",
    "        \n",
    "input_arr = np.array([1,2,3,4,5,6,7,8,9,10])\n",
    "goal = 7\n",
    "\n",
    "if binary_search(input_arr,goal) == None:\n",
    "    print(\"NOT FOUND\")\n",
    "else :\n",
    "    print(\"The Goal is at index = \" + str(binary_search(input_arr,goal)))"
   ]
  },
  {
   "cell_type": "markdown",
   "id": "6f522018",
   "metadata": {},
   "source": [
    "--> Binary Search \"Recursion\""
   ]
  },
  {
   "cell_type": "code",
   "execution_count": 44,
   "id": "60e18289",
   "metadata": {},
   "outputs": [
    {
     "name": "stdout",
     "output_type": "stream",
     "text": [
      "The Goal is at index = 3\n"
     ]
    }
   ],
   "source": [
    "def binary_search_rec(arr,low,high,goal):\n",
    "    if low <= high :\n",
    "        mid = (high+low)//2\n",
    "        if arr[mid]==goal:\n",
    "            return mid\n",
    "        elif arr[mid]>goal:\n",
    "            high = mid-1\n",
    "            return binary_search_rec(arr,low,high,goal)\n",
    "        elif arr[mid]<goal:\n",
    "            low = mid+1\n",
    "            return binary_search_rec(arr,low,high,goal)\n",
    "        else:\n",
    "            return -1 #not found\n",
    "\n",
    "\n",
    "input_arr = np.array([1,2,3,4,5,6,7,8,9,10])\n",
    "goal = 4\n",
    "low = 0\n",
    "high = len(input_arr)-1\n",
    "\n",
    "if binary_search_rec(input_arr,low,high,goal) == None:\n",
    "    print(\"NOT FOUND\")\n",
    "else :\n",
    "    print(\"The Goal is at index = \" + str(binary_search_rec(input_arr,low,high,goal)))"
   ]
  },
  {
   "cell_type": "markdown",
   "id": "4097ccad",
   "metadata": {},
   "source": [
    "--> Insertion Sort \"Iteration\""
   ]
  },
  {
   "cell_type": "code",
   "execution_count": 47,
   "id": "8e7ff427",
   "metadata": {},
   "outputs": [
    {
     "name": "stdout",
     "output_type": "stream",
     "text": [
      "[ -2   4  22  27  30  36  40  41 100]\n"
     ]
    }
   ],
   "source": [
    "def insertion_sort(arr):\n",
    "    for i in range(1,len(arr)): #1 to skip the 1st element which is already in the sorted list\n",
    "        value_to_sort = arr[i]\n",
    "        while i > 0 and arr[i-1] > value_to_sort:\n",
    "            arr[i] , arr[i-1] = arr[i-1],arr[i]\n",
    "            i = i-1     \n",
    "    return arr\n",
    "\n",
    "input_arr = np.array([4, 22, 41, 40, 27, 30, 36,-2,100])\n",
    "print(insertion_sort(input_arr))\n"
   ]
  },
  {
   "cell_type": "markdown",
   "id": "1793c529",
   "metadata": {},
   "source": [
    "--> Insertion Sort \"Recursive\""
   ]
  },
  {
   "cell_type": "code",
   "execution_count": 52,
   "id": "ec50675e",
   "metadata": {},
   "outputs": [
    {
     "name": "stdout",
     "output_type": "stream",
     "text": [
      "[ -2   4  22  27  30  36  40  41 100]\n"
     ]
    }
   ],
   "source": [
    "def insertion_sort_rec(arr,i):\n",
    "    value_to_sort = arr[i]\n",
    "    while i > 0 and  arr[i-1] > value_to_sort:\n",
    "        arr[i],arr[i-1] = arr[i-1],arr[i]\n",
    "        i = i-1\n",
    "    if (i+1 < len(arr)):\n",
    "        insertion_sort_rec(arr,i+1)   \n",
    "    return arr\n",
    "\n",
    "input_arr = np.array([4, 22, 41, 40, 27, 30, 36,-2,100])\n",
    "print(insertion_sort_rec(input_arr,1))"
   ]
  },
  {
   "cell_type": "markdown",
   "id": "fb37707b",
   "metadata": {},
   "source": [
    "--> Selection Sort "
   ]
  },
  {
   "cell_type": "code",
   "execution_count": 53,
   "id": "b05192a7",
   "metadata": {},
   "outputs": [
    {
     "name": "stdout",
     "output_type": "stream",
     "text": [
      "[ -2   4  22  27  30  36  40  41 100]\n"
     ]
    }
   ],
   "source": [
    "arr = np.array([4, 22, 41, 40, 27, 30, 36,-2,100])\n",
    "\n",
    "for i in range(len(arr)):\n",
    "    min = i\n",
    "    for j in range(i+1 , len(arr)):\n",
    "        if arr[min] > arr[j]:\n",
    "            min = j\n",
    "    arr[i],arr[min] = arr[min],arr[i]\n",
    "            \n",
    "print(arr)"
   ]
  },
  {
   "cell_type": "markdown",
   "id": "c2b0e447",
   "metadata": {},
   "source": [
    "--> Bubble Sort"
   ]
  },
  {
   "cell_type": "code",
   "execution_count": 54,
   "id": "9c72d8e0",
   "metadata": {},
   "outputs": [
    {
     "name": "stdout",
     "output_type": "stream",
     "text": [
      "[ -2   4  22  27  30  36  40  41 100]\n"
     ]
    }
   ],
   "source": [
    "def bubble_sort(arr):\n",
    "    sorted = False\n",
    "    while not sorted:\n",
    "        sorted = True\n",
    "        for i in range(0,len(arr)-1):\n",
    "            if arr[i] > arr[i+1]:\n",
    "                sorted = False\n",
    "                arr[i],arr[i+1] = arr[i+1],arr[i]\n",
    "    return arr\n",
    "\n",
    "arr = np.array([4, 22, 41, 40, 27, 30, 36,-2,100])\n",
    "print(bubble_sort(arr))    "
   ]
  },
  {
   "cell_type": "markdown",
   "id": "95eb0745",
   "metadata": {},
   "source": [
    "--> Bubble Sort \"With Swap\""
   ]
  },
  {
   "cell_type": "code",
   "execution_count": 55,
   "id": "927db06f",
   "metadata": {},
   "outputs": [
    {
     "name": "stdout",
     "output_type": "stream",
     "text": [
      "[ -2   4  22  27  30  36  40  41 100]\n"
     ]
    }
   ],
   "source": [
    "def bubble_sort_swap(arr):\n",
    "    sorted = False\n",
    "    while not sorted:\n",
    "        sorted = True\n",
    "        swapped = False\n",
    "        for i in range(0,len(arr)-1):\n",
    "            if arr[i] > arr[i+1]:\n",
    "                sorted = False\n",
    "                arr[i],arr[i+1] = arr[i+1],arr[i]\n",
    "                swapped = True\n",
    "        if swapped == False:\n",
    "            break\n",
    "    return arr\n",
    "\n",
    "arr = np.array([4, 22, 41, 40, 27, 30, 36,-2,100])\n",
    "print(bubble_sort_swap(arr)) "
   ]
  },
  {
   "cell_type": "markdown",
   "id": "7cd64d9f",
   "metadata": {},
   "source": [
    "--> GCD"
   ]
  },
  {
   "cell_type": "code",
   "execution_count": 56,
   "id": "424b4087",
   "metadata": {},
   "outputs": [
    {
     "name": "stdout",
     "output_type": "stream",
     "text": [
      "12\n"
     ]
    }
   ],
   "source": [
    "def gcd(x, y):\n",
    "    for i in range(1, x+1):\n",
    "        if((x % i == 0) and (y % i == 0)):\n",
    "            gcd = i\n",
    "              \n",
    "    return gcd\n",
    "\n",
    "print(gcd(48,60))"
   ]
  },
  {
   "cell_type": "markdown",
   "id": "57981e5d",
   "metadata": {},
   "source": [
    "--> GCD \"With Euclidean Lemma\""
   ]
  },
  {
   "cell_type": "code",
   "execution_count": null,
   "id": "fba1fc7a",
   "metadata": {},
   "outputs": [],
   "source": []
  }
 ],
 "metadata": {
  "kernelspec": {
   "display_name": "Python 3 (ipykernel)",
   "language": "python",
   "name": "python3"
  },
  "language_info": {
   "codemirror_mode": {
    "name": "ipython",
    "version": 3
   },
   "file_extension": ".py",
   "mimetype": "text/x-python",
   "name": "python",
   "nbconvert_exporter": "python",
   "pygments_lexer": "ipython3",
   "version": "3.9.7"
  }
 },
 "nbformat": 4,
 "nbformat_minor": 5
}
