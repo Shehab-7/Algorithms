{
 "cells": [
  {
   "cell_type": "markdown",
   "id": "51ff57e6",
   "metadata": {},
   "source": [
    "# Lab-3"
   ]
  },
  {
   "cell_type": "markdown",
   "id": "09023725",
   "metadata": {},
   "source": [
    "--> Merge Sort"
   ]
  },
  {
   "cell_type": "code",
   "execution_count": 2,
   "id": "2c89713a",
   "metadata": {},
   "outputs": [
    {
     "name": "stdout",
     "output_type": "stream",
     "text": [
      "[-1, 4, 6, 8]\n"
     ]
    }
   ],
   "source": [
    "def merge_sort(arr):\n",
    "    if len(arr) > 1:\n",
    "        left_half = arr[:len(arr)//2]\n",
    "        right_half = arr[len(arr)//2:]\n",
    "        \n",
    "        merge_sort(left_half)\n",
    "        merge_sort(right_half)\n",
    "        \n",
    "        i = 0\n",
    "        j = 0\n",
    "        k = 0\n",
    "        \n",
    "        while i < len(left_half) and j < len(right_half):\n",
    "            if left_half[i] < right_half[j]:\n",
    "                arr[k] = left_half[i]\n",
    "                i = i + 1\n",
    "                k = k + 1\n",
    "            elif left_half[i] > right_half[j]:\n",
    "                arr[k] = right_half[j]\n",
    "                j = j + 1\n",
    "                k = k + 1\n",
    "        \n",
    "        while i < len(left_half):\n",
    "            arr[k] = left_half[i]\n",
    "            i = i + 1\n",
    "            k = k + 1\n",
    "        \n",
    "        while j < len(right_half):\n",
    "            arr[k] = right_half[j]\n",
    "            j = j + 1\n",
    "            k = k + 1\n",
    "                \n",
    "arr = [6,4,8,-1]\n",
    "merge_sort(arr)\n",
    "print(arr)\n",
    "            \n",
    "        "
   ]
  },
  {
   "cell_type": "markdown",
   "id": "0b3a92a2",
   "metadata": {},
   "source": [
    "* The Visualization was right"
   ]
  },
  {
   "cell_type": "markdown",
   "id": "85109a58",
   "metadata": {},
   "source": [
    "*------------------------------------------------------------------------------------------------------------------------------------------------------------------------------------------------------*"
   ]
  },
  {
   "cell_type": "markdown",
   "id": "6189dff1",
   "metadata": {},
   "source": [
    "--> Karatsuba"
   ]
  },
  {
   "cell_type": "code",
   "execution_count": 17,
   "id": "22b526b5",
   "metadata": {},
   "outputs": [
    {
     "name": "stdout",
     "output_type": "stream",
     "text": [
      "7006652\n"
     ]
    }
   ],
   "source": [
    "def karatsuba(x,y):\n",
    "    if x<10 or y<10:\n",
    "        return x*y\n",
    "    else:\n",
    "        num1 = str(x)\n",
    "        num2 = str(y)\n",
    "        n = max(len(num1),len(num2))\n",
    "        half = n//2\n",
    "       \n",
    "        a = x//(10**(half))\n",
    "        b = x%(10**(half))\n",
    "        c = y//(10**(half))\n",
    "        d = y%(10**(half))\n",
    "        ac = karatsuba(int(a),int(c))\n",
    "        bd = karatsuba(int(b),int(d))\n",
    "        \n",
    "        ad_plus_bc = karatsuba((int(a)+int(b)),(int(c)+int(d)))-ac-bd\n",
    "        return ac*(10**(2*half))+(ad_plus_bc*(10**half))+bd\n",
    "    \n",
    "print(karatsuba(1234,5678))      \n",
    "    "
   ]
  },
  {
   "cell_type": "markdown",
   "id": "ccb8ed51",
   "metadata": {},
   "source": [
    "*------------------------------------------------------------------------------------------------------------------------------------------------------------------------------------------------------*"
   ]
  }
 ],
 "metadata": {
  "kernelspec": {
   "display_name": "Python 3 (ipykernel)",
   "language": "python",
   "name": "python3"
  },
  "language_info": {
   "codemirror_mode": {
    "name": "ipython",
    "version": 3
   },
   "file_extension": ".py",
   "mimetype": "text/x-python",
   "name": "python",
   "nbconvert_exporter": "python",
   "pygments_lexer": "ipython3",
   "version": "3.9.7"
  }
 },
 "nbformat": 4,
 "nbformat_minor": 5
}
