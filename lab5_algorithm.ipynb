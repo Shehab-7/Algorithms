{
 "cells": [
  {
   "cell_type": "markdown",
   "id": "a5c25599",
   "metadata": {},
   "source": [
    "# lab-5 Using Python Code"
   ]
  },
  {
   "cell_type": "code",
   "execution_count": 41,
   "id": "545a4620",
   "metadata": {},
   "outputs": [],
   "source": [
    "graph = { \"0\": [\"1\", \"3\", \"8\"],\n",
    "          \"1\": [\"0\", \"7\"],\n",
    "          \"2\": [\"3\", \"7\", \"5\"],\n",
    "          \"3\": [\"0\", \"4\"],\n",
    "          \"4\": [\"3\", \"8\"],\n",
    "          \"5\": [\"2\", \"6\"],\n",
    "          \"6\": [\"5\"],\n",
    "          \"7\": [\"1\", \"2\"],\n",
    "          \"8\": [\"4\", \"0\"] }"
   ]
  },
  {
   "cell_type": "markdown",
   "id": "b53eb0ab",
   "metadata": {},
   "source": [
    "1) DFS path for the Graph"
   ]
  },
  {
   "cell_type": "markdown",
   "id": "e0bfbfdc",
   "metadata": {},
   "source": [
    "--> Stack Implementation"
   ]
  },
  {
   "cell_type": "code",
   "execution_count": 77,
   "id": "01cb1566",
   "metadata": {},
   "outputs": [],
   "source": [
    "class Stack:\n",
    "\n",
    "    items = []\n",
    "\n",
    "    def is_empty(obj):\n",
    "        if len(obj.items) == 0 :\n",
    "            return True\n",
    "        else : \n",
    "            return False\n",
    "         \n",
    "\n",
    "    def push(obj, data):\n",
    "         obj.items.append(data)\n",
    "\n",
    "    def pop(obj):\n",
    "         return obj.items.pop()\n",
    "\n",
    "    def size(obj):\n",
    "         return len(obj.items)\n",
    "\n",
    "        \n",
    "        \n",
    "        \n",
    "# Used to just test the Stack operations\n",
    "\n",
    "#s = Stack()\n",
    "#s.push('hello')\n",
    "#s.push('world!')\n",
    "#s.push('from')\n",
    "#s.push('ITI')\n",
    "#print(s.items)\n",
    "#print(s.pop())\n",
    "#print(s.items)\n",
    "#print(s.is_empty())\n",
    "\n",
    "       \n",
    "\n"
   ]
  },
  {
   "cell_type": "markdown",
   "id": "e22d41b2",
   "metadata": {},
   "source": [
    "--> DFS Implementation"
   ]
  },
  {
   "cell_type": "code",
   "execution_count": 80,
   "id": "acf0053c",
   "metadata": {},
   "outputs": [
    {
     "name": "stdout",
     "output_type": "stream",
     "text": [
      "0 8 4 3 1 7 2 5 6 "
     ]
    }
   ],
   "source": [
    "# I know this code have a wrong output using iteration\n",
    "# but below it got a right output when I used recursion but I'm wondering why ???!!!\n",
    "\n",
    "def dfs(start_node , graph):\n",
    "    \n",
    "    explored_set = set()\n",
    "    \n",
    "    if start_node not in graph :\n",
    "        print(\"Graph doesn't contain this node\")\n",
    "        return\n",
    "    \n",
    "    frontier = Stack()\n",
    "    frontier.push(start_node)\n",
    "    \n",
    "    while not frontier.is_empty() :\n",
    "        current = frontier.pop()\n",
    "        if current not in explored_set :\n",
    "            print(current, end = \" \")\n",
    "            explored_set.add(current)\n",
    "            for adj_nodes in graph[current]:\n",
    "                frontier.push(adj_nodes)\n",
    "\n",
    "dfs('0',graph)"
   ]
  },
  {
   "cell_type": "code",
   "execution_count": 73,
   "id": "cd39ff93",
   "metadata": {},
   "outputs": [
    {
     "name": "stdout",
     "output_type": "stream",
     "text": [
      "0 1 7 2 3 4 8 5 6 "
     ]
    }
   ],
   "source": [
    "explored_set = []\n",
    "\n",
    "def dfs(explored_set, graph, start_node):\n",
    "    \n",
    "    if start_node not in graph :\n",
    "        print(\"Graph doesn't contain this node\")\n",
    "        return\n",
    "    \n",
    "    elif start_node not in explored_set:\n",
    "        print (start_node, end = \" \")\n",
    "        explored_set.append(start_node)\n",
    "        for neighbour in graph[start_node]:\n",
    "            dfs(explored_set, graph, neighbour)\n",
    "\n",
    "dfs(explored_set, graph, '0')"
   ]
  },
  {
   "cell_type": "markdown",
   "id": "cda3ab9c",
   "metadata": {},
   "source": [
    "2) BFS Path for the graph"
   ]
  },
  {
   "cell_type": "markdown",
   "id": "f63503ab",
   "metadata": {},
   "source": [
    "--> Queue Implementation"
   ]
  },
  {
   "cell_type": "code",
   "execution_count": 78,
   "id": "4e399fa7",
   "metadata": {},
   "outputs": [],
   "source": [
    "class Queue:\n",
    "    \n",
    "    items = []\n",
    "\n",
    "    def is_empty(obj):\n",
    "        if len(obj.items) == 0 :\n",
    "            return True\n",
    "        else :\n",
    "            return False\n",
    "\n",
    "    def enqueue(obj, item):\n",
    "        obj.items.insert(0,item)\n",
    "\n",
    "    def dequeue(obj):\n",
    "        return obj.items.pop()\n",
    "\n",
    "    def size(obj):\n",
    "        return len(obj.items)\n",
    "    \n",
    "# Used to just test the Queue operations\n",
    "\n",
    "#q = Queue()\n",
    "#q.enqueue(7)\n",
    "#q.enqueue(4)\n",
    "#q.enqueue('dog')\n",
    "#q.enqueue(True)\n",
    "#q.dequeue()\n",
    "#print(q.size())\n",
    "#print(q.items)\n"
   ]
  },
  {
   "cell_type": "markdown",
   "id": "9d693825",
   "metadata": {},
   "source": [
    "--> BFS Implementation"
   ]
  },
  {
   "cell_type": "code",
   "execution_count": 74,
   "id": "3abcdfb1",
   "metadata": {},
   "outputs": [
    {
     "name": "stdout",
     "output_type": "stream",
     "text": [
      "0 1 3 8 7 4 2 5 6 "
     ]
    }
   ],
   "source": [
    "explored_set = [] \n",
    "queue = Queue()     \n",
    "def bfs(explored_set, graph, start_node): \n",
    "    \n",
    "    if start_node not in graph :\n",
    "        print(\"Graph doesn't contain this node\")\n",
    "        return\n",
    "    \n",
    "    explored_set.append(start_node)\n",
    "    queue.enqueue(start_node)\n",
    "    while not queue.is_empty():          \n",
    "        current = queue.dequeue() \n",
    "        print (current, end = \" \") \n",
    "        for neighbour in graph[current]:\n",
    "            if neighbour not in explored_set:\n",
    "                explored_set.append(neighbour)\n",
    "                queue.enqueue(neighbour)\n",
    "                \n",
    "bfs(explored_set, graph, '0')"
   ]
  },
  {
   "cell_type": "markdown",
   "id": "cf386391",
   "metadata": {},
   "source": [
    "3) Dijkstra for the following weighted graph"
   ]
  },
  {
   "cell_type": "code",
   "execution_count": 81,
   "id": "afb53a82",
   "metadata": {},
   "outputs": [
    {
     "name": "stdout",
     "output_type": "stream",
     "text": [
      "The shortest bath from starting node 0 to aby node is: \n",
      "0 - [0, None]\n",
      "1 - [8, '0']\n",
      "2 - [9, '0']\n",
      "3 - [9, '1']\n",
      "4 - [20, '6']\n",
      "5 - [15, '1']\n",
      "6 - [13, '2']\n",
      "7 - [13, '3']\n"
     ]
    }
   ],
   "source": [
    "def get_shortest_distance(table, vertex): \n",
    "        shortest_distance = table[vertex][DISTANCE] \n",
    "        return shortest_distance \n",
    "    \n",
    "def set_shortest_distance(table, vertex, new_distance): \n",
    "        table[vertex][DISTANCE] = new_distance \n",
    "        \n",
    "def set_previous_node(table, vertex, previous_node): \n",
    "        table[vertex][PREVIOUS_NODE] = previous_node \n",
    "\n",
    "def get_distance(graph, first_vertex, second_vertex): \n",
    "        return graph[first_vertex][second_vertex] \n",
    "        \n",
    "def get_next_node(table, visited_nodes): \n",
    "        unvisited_nodes = list(set(table.keys()).difference(set(visited_nodes))) \n",
    "        assumed_min = table[unvisited_nodes[0]][DISTANCE] \n",
    "        min_vertex = unvisited_nodes[0] \n",
    "        for node in unvisited_nodes: \n",
    "            if table[node][DISTANCE] < assumed_min: \n",
    "                assumed_min = table[node][DISTANCE] \n",
    "                min_vertex = node \n",
    "        return min_vertex \n",
    "\n",
    "def find_shortest_path(graph, table, origin): \n",
    "    visited_nodes = [] \n",
    "    current_node = origin \n",
    "    starting_node = origin \n",
    "    while True: \n",
    "        adjacent_nodes = graph[current_node] \n",
    "        if set(adjacent_nodes).issubset(set(visited_nodes)): \n",
    "            pass \n",
    "        else: \n",
    "            unvisited_nodes = set(adjacent_nodes).difference(set(visited_nodes)) \n",
    "            for vertex in unvisited_nodes: \n",
    "                distance_from_starting_node = get_shortest_distance(table, vertex) \n",
    "                if distance_from_starting_node == INFINITY and current_node == starting_node: \n",
    "                    total_distance = get_distance(graph, vertex, current_node) \n",
    "                else: \n",
    "                    total_distance = get_shortest_distance (table, \n",
    "                    current_node) + get_distance(graph, current_node, vertex) \n",
    "                if total_distance < distance_from_starting_node: \n",
    "                    set_shortest_distance(table, vertex, total_distance) \n",
    "                    set_previous_node(table, vertex, current_node) \n",
    "        visited_nodes.append(current_node) \n",
    "        if len(visited_nodes) == len(table.keys()): \n",
    "            break \n",
    "        current_node = get_next_node(table,visited_nodes) \n",
    "    return(table)\n",
    "\n",
    "graph = dict() \n",
    "graph['0'] = {'1': 8, '2': 9} \n",
    "graph['1'] = {'0': 8, '6': 9, '5': 7, '3': 1}\n",
    "graph['2'] = {'0': 9, '6': 4, '5': 6} \n",
    "graph['3'] = {'1': 1, '7': 4} \n",
    "graph['4'] = {'6': 7, '7': 7} \n",
    "graph['5'] = {'1': 7, '2': 6, '7': 2} \n",
    "graph['6'] = {'1': 9, '2': 4, '4': 7, '7': 6} \n",
    "graph['7'] = {'3': 4, '4': 7, '5': 2, '6': 6} \n",
    "\n",
    "table = dict() \n",
    "table = { \n",
    "        '0': [0, None], \n",
    "        '1': [float(\"inf\"), None], \n",
    "        '2': [float(\"inf\"), None], \n",
    "        '3': [float(\"inf\"), None], \n",
    "        '4': [float(\"inf\"), None], \n",
    "        '5': [float(\"inf\"), None],\n",
    "        '6': [float(\"inf\"), None],\n",
    "        '7': [float(\"inf\"), None],\n",
    "}\n",
    "\n",
    "\n",
    "DISTANCE = 0 \n",
    "PREVIOUS_NODE = 1 \n",
    "INFINITY = float('inf')  \n",
    "\n",
    "shortest_distance_table = find_shortest_path(graph, table, '0') \n",
    "\n",
    "print('The shortest bath from starting node 0 to aby node is: ')\n",
    "for k in sorted(shortest_distance_table): \n",
    "        print(\"{} - {}\".format(k,shortest_distance_table[k])) "
   ]
  }
 ],
 "metadata": {
  "kernelspec": {
   "display_name": "Python 3 (ipykernel)",
   "language": "python",
   "name": "python3"
  },
  "language_info": {
   "codemirror_mode": {
    "name": "ipython",
    "version": 3
   },
   "file_extension": ".py",
   "mimetype": "text/x-python",
   "name": "python",
   "nbconvert_exporter": "python",
   "pygments_lexer": "ipython3",
   "version": "3.9.7"
  }
 },
 "nbformat": 4,
 "nbformat_minor": 5
}
