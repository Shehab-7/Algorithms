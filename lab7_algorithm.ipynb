{
 "cells": [
  {
   "cell_type": "markdown",
   "id": "6f38cf93",
   "metadata": {},
   "source": [
    "# Lab-7"
   ]
  },
  {
   "cell_type": "markdown",
   "id": "e8f21a1f",
   "metadata": {},
   "source": [
    "Implement  Quick sort"
   ]
  },
  {
   "cell_type": "code",
   "execution_count": 49,
   "id": "75987d8f",
   "metadata": {},
   "outputs": [
    {
     "name": "stdout",
     "output_type": "stream",
     "text": [
      "[-3, 0, 1, 2, 3, 4, 5, 5, 7, 7, 8, 9, 9, 21, 45]\n"
     ]
    }
   ],
   "source": [
    "def QuickSort(arr):\n",
    "\n",
    "    elements = len(arr)\n",
    "    \n",
    "    if elements < 2:\n",
    "        return arr\n",
    "    \n",
    "    current_position = 0 \n",
    "    \n",
    "    for i in range(1, elements): \n",
    "         if arr[i] <= arr[0]:\n",
    "            current_position += 1\n",
    "            temp = arr[i]\n",
    "            arr[i] = arr[current_position]\n",
    "            arr[current_position] = temp\n",
    "\n",
    "    temp = arr[0]\n",
    "    arr[0] = arr[current_position] \n",
    "    arr[current_position] = temp \n",
    "    \n",
    "    left = QuickSort(arr[0:current_position]) \n",
    "    right = QuickSort(arr[current_position+1:elements]) \n",
    "\n",
    "    arr = left + [arr[current_position]] + right \n",
    "    \n",
    "    return arr\n",
    "\n",
    "\n",
    "test_numbers = [2,5,4,0,9,7,1,3,7,9,5,8,45,21,-3]\n",
    "print(QuickSort(test_numbers))\n",
    "        "
   ]
  },
  {
   "cell_type": "markdown",
   "id": "9cdb9e85",
   "metadata": {},
   "source": [
    "What is the complexity of Quicksort"
   ]
  },
  {
   "cell_type": "markdown",
   "id": "1bb319ce",
   "metadata": {},
   "source": [
    "Worst Case --> O(n^2)"
   ]
  }
 ],
 "metadata": {
  "kernelspec": {
   "display_name": "Python 3 (ipykernel)",
   "language": "python",
   "name": "python3"
  },
  "language_info": {
   "codemirror_mode": {
    "name": "ipython",
    "version": 3
   },
   "file_extension": ".py",
   "mimetype": "text/x-python",
   "name": "python",
   "nbconvert_exporter": "python",
   "pygments_lexer": "ipython3",
   "version": "3.9.7"
  }
 },
 "nbformat": 4,
 "nbformat_minor": 5
}
