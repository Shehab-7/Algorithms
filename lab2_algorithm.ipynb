{
 "cells": [
  {
   "cell_type": "markdown",
   "id": "b4da3c0d",
   "metadata": {},
   "source": [
    "# Lab-2"
   ]
  },
  {
   "cell_type": "markdown",
   "id": "ab3da85e",
   "metadata": {},
   "source": [
    "--> Money Change Problem \"Greedy\" "
   ]
  },
  {
   "cell_type": "code",
   "execution_count": 95,
   "id": "8fd3cac2",
   "metadata": {},
   "outputs": [
    {
     "name": "stdout",
     "output_type": "stream",
     "text": [
      "20\n",
      "1\n",
      "1\n",
      "1\n",
      "1\n",
      "The number of changes = 5\n"
     ]
    }
   ],
   "source": [
    "def find_min_change(v):\n",
    "      \n",
    "    money = [1,5,10,20,50,100,200]\n",
    "    result = []\n",
    "    count = 0\n",
    "    i = len(money) - 1\n",
    "    \n",
    "    while(i >= 0):   \n",
    "        while (v >= money[i]):\n",
    "            v = v - money[i]\n",
    "            result.append(money[i])\n",
    "            count += 1\n",
    "  \n",
    "        i = i - 1\n",
    "  \n",
    "    for i in range(len(result)):\n",
    "        print(result[i])\n",
    "    print(\"The number of changes = \" + str(count))\n",
    "value_of_money=24\n",
    "find_min_change(value_of_money)\n"
   ]
  },
  {
   "cell_type": "markdown",
   "id": "dc4db5f4",
   "metadata": {},
   "source": [
    "*------------------------------------------------------------------------------------------------------------------------------------------------------------------------------------------------------*"
   ]
  },
  {
   "cell_type": "markdown",
   "id": "d9e0e769",
   "metadata": {},
   "source": [
    "--> Money Change Problem \"Optimal\" "
   ]
  },
  {
   "cell_type": "code",
   "execution_count": 105,
   "id": "b1dae3ca",
   "metadata": {},
   "outputs": [
    {
     "name": "stdout",
     "output_type": "stream",
     "text": [
      "[8, 8, 8]\n",
      "The number of changes = 3\n"
     ]
    }
   ],
   "source": [
    "def calc(n, money):\n",
    "    if n < 0:\n",
    "        return []\n",
    "    if n == 0:\n",
    "         return [[]]\n",
    "    all_changes = []\n",
    "\n",
    "    for last_used_coin in money:\n",
    "        combos = calc(n - last_used_coin, money)\n",
    "        for combo in combos:\n",
    "            combo.append(last_used_coin)\n",
    "            all_changes.append(combo)\n",
    "    return all_changes\n",
    "def find_min_changes_min(n, money):\n",
    "    if calc(n, money)==[]:\n",
    "        return \n",
    "    else:\n",
    "        return min(calc(n, money), key=len)\n",
    "    \n",
    "money = [1,5,8,10]\n",
    "amount=24\n",
    "print(find_min_changes_min(24, money))\n",
    "print(\"The number of changes = \" + str(len(find_min_changes_min(amount, money))))"
   ]
  },
  {
   "cell_type": "markdown",
   "id": "c88d727e",
   "metadata": {},
   "source": [
    "*------------------------------------------------------------------------------------------------------------------------------------------------------------------------------------------------------*"
   ]
  },
  {
   "cell_type": "markdown",
   "id": "29d3c2c1",
   "metadata": {},
   "source": [
    "* optimal doesn't equal greedy to prove that we can append coin = 8 to the money list and set amount = 24\n",
    "  and see the difference for the previous 2 outputs"
   ]
  },
  {
   "cell_type": "markdown",
   "id": "56568422",
   "metadata": {},
   "source": [
    "*------------------------------------------------------------------------------------------------------------------------------------------------------------------------------------------------------*"
   ]
  },
  {
   "cell_type": "markdown",
   "id": "c5bc7883",
   "metadata": {},
   "source": [
    "--> Fractional Knapsack \"The greedy is same as the optimal\""
   ]
  },
  {
   "cell_type": "code",
   "execution_count": 94,
   "id": "fd07912a",
   "metadata": {},
   "outputs": [
    {
     "name": "stdout",
     "output_type": "stream",
     "text": [
      "[1, 1, 0.6666666666666666]\n",
      "240.0\n"
     ]
    }
   ],
   "source": [
    "weights = [10,20,30]\n",
    "values = [60,100,120]\n",
    "capacity = 50\n",
    "\n",
    "def knapsack(weights, values, capacity):\n",
    "    ratios = []\n",
    "    for i in range(len(weights)):\n",
    "        ratios.append(values[i]/weights[i])\n",
    "    n = len(weights)\n",
    "    index = list(range(n))\n",
    "    index.sort(key = lambda i:ratios[i] , reverse = True)\n",
    "    max_value = 0\n",
    "    fractions = [0]*n\n",
    "    for i in index:\n",
    "        if weights[i] <= capacity:\n",
    "            max_value += values[i]\n",
    "            capacity -= weights[i]\n",
    "            fractions[i] = 1\n",
    "        else:\n",
    "            fractions[i] = capacity / weights[i]\n",
    "            max_value += values[i]*fractions[i]\n",
    "            break\n",
    "    print(fractions)\n",
    "    return max_value\n",
    "\n",
    "print(knapsack(weights, values, capacity))"
   ]
  },
  {
   "cell_type": "markdown",
   "id": "58ad7527",
   "metadata": {},
   "source": [
    "*------------------------------------------------------------------------------------------------------------------------------------------------------------------------------------------------------*"
   ]
  },
  {
   "cell_type": "markdown",
   "id": "9a56e9e4",
   "metadata": {},
   "source": [
    "--> 0-1 Knapsack \"Greedy\""
   ]
  },
  {
   "cell_type": "code",
   "execution_count": 114,
   "id": "e4388e74",
   "metadata": {},
   "outputs": [
    {
     "name": "stdout",
     "output_type": "stream",
     "text": [
      "220\n"
     ]
    }
   ],
   "source": [
    "def knapSack(capacity, weight, value, n):\n",
    "\n",
    "    if n == 0 or capacity == 0 :\n",
    "        return 0\n",
    "\n",
    "    if (weight[n-1] > capacity):\n",
    "        return knapSack(capacity, weight, value, n-1)\n",
    "\n",
    "    else:\n",
    "        return max(value[n-1] + knapSack(capacity-weight[n-1], weight, value, n-1),\n",
    "                knapSack(capacity, weight, value, n-1))\n",
    "\n",
    "value = [60, 100, 120]\n",
    "weight = [10, 20, 30]\n",
    "capacity = 50\n",
    "n = len(value)\n",
    "print (knapSack(capacity, weight, value, n))\n"
   ]
  },
  {
   "cell_type": "markdown",
   "id": "7d3fafc4",
   "metadata": {},
   "source": [
    "*------------------------------------------------------------------------------------------------------------------------------------------------------------------------------------------------------*"
   ]
  },
  {
   "cell_type": "markdown",
   "id": "cae6497d",
   "metadata": {},
   "source": [
    "--> 0-1 Knapsack \"Optimal\""
   ]
  },
  {
   "cell_type": "code",
   "execution_count": 121,
   "id": "95d8f9ed",
   "metadata": {},
   "outputs": [
    {
     "name": "stdout",
     "output_type": "stream",
     "text": [
      "300\n"
     ]
    }
   ],
   "source": [
    "def calc(n, weight, value):\n",
    "    if n < 0:\n",
    "        return []\n",
    "    if n == 0:\n",
    "         return [[]]\n",
    "    all_changes = []\n",
    "    for last_used_weight in weight:\n",
    "        combos = calc(n - last_used_weight, weight, value)\n",
    "        for combo in combos:\n",
    "            combo.append(last_used_weight)\n",
    "            all_changes.append(combo)\n",
    "    return all_changes\n",
    "def money3(n, weight, value):\n",
    "    if calc(n, weight, value)==[]:\n",
    "        return \n",
    "    else:\n",
    "        l1 = calc(n, weight, value)\n",
    "        l2 = calc(n, weight, value)\n",
    "        \n",
    "        for a in l2:\n",
    "            for x in range(len(a)):\n",
    "                a[x] = val[weight.index(a[x])]\n",
    "        ma = [sum(l) for l in l2]\n",
    "        return sum(l2[ma.index(max(ma))])\n",
    "\n",
    "value = [60, 100, 120]\n",
    "weight = [10, 20, 30]\n",
    "amount = 50\n",
    "print(money3(amount,weight,value))"
   ]
  },
  {
   "cell_type": "markdown",
   "id": "b9e8d49c",
   "metadata": {},
   "source": [
    "*------------------------------------------------------------------------------------------------------------------------------------------------------------------------------------------------------*"
   ]
  },
  {
   "cell_type": "markdown",
   "id": "78f2b611",
   "metadata": {},
   "source": [
    "* optimal doesn't equal greedy to prove that we can set amount = 50 and see the difference for the previous 2 outputs"
   ]
  },
  {
   "cell_type": "markdown",
   "id": "6f120b87",
   "metadata": {},
   "source": [
    "*------------------------------------------------------------------------------------------------------------------------------------------------------------------------------------------------------*"
   ]
  }
 ],
 "metadata": {
  "kernelspec": {
   "display_name": "Python 3 (ipykernel)",
   "language": "python",
   "name": "python3"
  },
  "language_info": {
   "codemirror_mode": {
    "name": "ipython",
    "version": 3
   },
   "file_extension": ".py",
   "mimetype": "text/x-python",
   "name": "python",
   "nbconvert_exporter": "python",
   "pygments_lexer": "ipython3",
   "version": "3.9.7"
  }
 },
 "nbformat": 4,
 "nbformat_minor": 5
}
